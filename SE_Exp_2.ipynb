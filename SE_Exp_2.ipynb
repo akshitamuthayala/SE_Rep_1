{
  "nbformat": 4,
  "nbformat_minor": 0,
  "metadata": {
    "colab": {
      "provenance": [],
      "toc_visible": true,
      "authorship_tag": "ABX9TyMPGb3U5iAZpcIRQjYKSjey",
      "include_colab_link": true
    },
    "kernelspec": {
      "name": "python3",
      "display_name": "Python 3"
    },
    "language_info": {
      "name": "python"
    }
  },
  "cells": [
    {
      "cell_type": "markdown",
      "metadata": {
        "id": "view-in-github",
        "colab_type": "text"
      },
      "source": [
        "<a href=\"https://colab.research.google.com/github/akshitamuthayala/SE_Rep_1/blob/main/SE_Exp_2.ipynb\" target=\"_parent\"><img src=\"https://colab.research.google.com/assets/colab-badge.svg\" alt=\"Open In Colab\"/></a>"
      ]
    },
    {
      "cell_type": "markdown",
      "source": [
        "Implement a weather modeling using the quadratic solution in stages: Hard-coding variables keyboard input, read from a file, for a single set of input, multiple sets of input.\n",
        "\n",
        "\n",
        "a. save all versions, debug, fix problems, crearte a Github account\n"
      ],
      "metadata": {
        "id": "9R-swEy7rdSe"
      }
    },
    {
      "cell_type": "code",
      "execution_count": 13,
      "metadata": {
        "id": "C1Vwf4HCk2eV"
      },
      "outputs": [],
      "source": [
        "#task 1\n",
        "def Temperature_modeling(a,b,c,time):\n",
        "  temperature=a*time**2+b*time+c\n",
        "  return temperature"
      ]
    },
    {
      "cell_type": "code",
      "source": [
        "#hardcoded var\n",
        "a,b,c=0.1,2,10\n",
        "time=5"
      ],
      "metadata": {
        "id": "EwA3KJKLnO-S"
      },
      "execution_count": 23,
      "outputs": []
    },
    {
      "cell_type": "code",
      "source": [
        "#output\n",
        "print(\"Hardcoded variables for weather modeling\")\n",
        "print(\"temperature for hardcoded coefficients at time\",time,\"hours:\", Temperature_modeling(a,b,c,time))"
      ],
      "metadata": {
        "colab": {
          "base_uri": "https://localhost:8080/"
        },
        "id": "fxkQvy6-nUxO",
        "outputId": "57cfd497-942d-49b6-cfa8-b29840bd2942"
      },
      "execution_count": 24,
      "outputs": [
        {
          "output_type": "stream",
          "name": "stdout",
          "text": [
            "Hardcoded variables for weather modeling\n",
            "temperature for hardcoded coefficients at time 5 hours: 22.5\n"
          ]
        }
      ]
    },
    {
      "cell_type": "code",
      "source": [
        "a=float(input(\"enter a coefficient for a:\"))\n",
        "b=float(input(\"enter a coefficient for b:\"))\n",
        "c=float(input(\"enter a coefficient for c:\"))"
      ],
      "metadata": {
        "colab": {
          "base_uri": "https://localhost:8080/"
        },
        "id": "ta7h4qmMnXgt",
        "outputId": "aca3f5ba-4cc1-4e07-928f-b90199a8bbfc"
      },
      "execution_count": 25,
      "outputs": [
        {
          "name": "stdout",
          "output_type": "stream",
          "text": [
            "enter a coefficient for a:3\n",
            "enter a coefficient for b:6\n",
            "enter a coefficient for c:2\n"
          ]
        }
      ]
    },
    {
      "cell_type": "code",
      "source": [
        "time=float(input(\"enter time:\"))"
      ],
      "metadata": {
        "colab": {
          "base_uri": "https://localhost:8080/"
        },
        "id": "GL8GZMYlq2UG",
        "outputId": "baa2c09a-bde1-4321-dbb7-4da8754f63a4"
      },
      "execution_count": 9,
      "outputs": [
        {
          "name": "stdout",
          "output_type": "stream",
          "text": [
            "enter time:6\n"
          ]
        }
      ]
    },
    {
      "cell_type": "code",
      "source": [
        "print(\"Hardcoded variables for weather modeling\")\n",
        "print(\"temperature for hardcoded coefficients at time\",time,\"hours:\", Temperature_modeling(a,b,c,time))"
      ],
      "metadata": {
        "colab": {
          "base_uri": "https://localhost:8080/"
        },
        "id": "dOqWU54PrB0X",
        "outputId": "969f4f40-5e90-40cf-b042-3614f0192b40"
      },
      "execution_count": 26,
      "outputs": [
        {
          "output_type": "stream",
          "name": "stdout",
          "text": [
            "Hardcoded variables for weather modeling\n",
            "temperature for hardcoded coefficients at time 5 hours: 107.0\n"
          ]
        }
      ]
    },
    {
      "cell_type": "code",
      "source": [
        "#task 2\n",
        "def read_from_file(filename):\n",
        "  coefficients = []\n",
        "  with open(filename, 'r') as file:\n",
        "    for line in file:\n",
        "      try:\n",
        "        #Attempt to convert the line to numbers\n",
        "        coefficients.append(tuple(map(float, line.strip().split(','))))\n",
        "      except ValueError:\n",
        "        #Print an error message if conversion fails and skip the line\n",
        "        print(f\"Skipping line: '{line.strip()}', could not convert to numbers.\")\n",
        "  return coefficients"
      ],
      "metadata": {
        "id": "8ThLoq34rJWF"
      },
      "execution_count": 36,
      "outputs": []
    },
    {
      "cell_type": "code",
      "source": [
        "#example: solve with single set of inputs\n",
        "coefficients = read_from_file('/content/input1.txt')\n",
        "a,b,c,time = coefficients[0]\n",
        "temperature=Temperature_modeling(a,b,c,time)\n",
        "print(\"read from a file for weather modeling\")\n",
        "print(\"temperature from keyboard coefficients at time\",time,\"hours:\", Temperature_modeling(a,b,c,time))\n"
      ],
      "metadata": {
        "colab": {
          "base_uri": "https://localhost:8080/"
        },
        "id": "SesoTdXTsLJP",
        "outputId": "88f9b357-9493-40a4-a917-d1e7d0f6994d"
      },
      "execution_count": 37,
      "outputs": [
        {
          "output_type": "stream",
          "name": "stdout",
          "text": [
            "read from a file for weather modeling\n",
            "temperature for coefficients at time 5.0 hours: 65.2\n"
          ]
        }
      ]
    },
    {
      "cell_type": "code",
      "source": [
        "#Solve for all sets in the file\n",
        "for idx, (a,b,c,time) in enumerate(coefficients):\n",
        "  temperature=Temperature_modeling(a,b,c,time)\n",
        "  print(\"read from a file for weather modeling\")\n",
        "  print(\"temperature from keyboard coefficients at time\",time,\"hours:\", Temperature_modeling(a,b,c,time))"
      ],
      "metadata": {
        "colab": {
          "base_uri": "https://localhost:8080/"
        },
        "id": "bS6KnYMjyHuv",
        "outputId": "f0256895-e13f-4712-a21e-ab32abb08064"
      },
      "execution_count": 39,
      "outputs": [
        {
          "output_type": "stream",
          "name": "stdout",
          "text": [
            "read from a file for weather modeling\n",
            "temperature from keyboard coefficients at time 5.0 hours: 65.2\n",
            "read from a file for weather modeling\n",
            "temperature from keyboard coefficients at time 10.0 hours: 181.9\n",
            "read from a file for weather modeling\n",
            "temperature from keyboard coefficients at time 15.0 hours: 678.5\n"
          ]
        }
      ]
    },
    {
      "cell_type": "code",
      "source": [],
      "metadata": {
        "id": "0JPrP-uAyqKF"
      },
      "execution_count": null,
      "outputs": []
    }
  ]
}